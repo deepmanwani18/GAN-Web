{
  "nbformat": 4,
  "nbformat_minor": 0,
  "metadata": {
    "colab": {
      "name": "GAN 128.ipynb",
      "provenance": [],
      "collapsed_sections": []
    },
    "kernelspec": {
      "name": "python3",
      "display_name": "Python 3"
    },
    "language_info": {
      "name": "python"
    },
    "accelerator": "GPU"
  },
  "cells": [
    {
      "cell_type": "code",
      "metadata": {
        "id": "btkTK4IaXYPp",
        "colab": {
          "base_uri": "https://localhost:8080/",
          "height": 35
        },
        "outputId": "5f948498-b720-4731-bc82-b7e7361764f5"
      },
      "source": [
        "import tensorflow as tf\n",
        "from tensorflow.keras import layers\n",
        "from tensorflow.keras.layers import Input, Reshape, Dropout, Dense \n",
        "from tensorflow.keras.layers import Flatten, BatchNormalization\n",
        "from tensorflow.keras.layers import Activation, ZeroPadding2D\n",
        "from tensorflow.keras.layers import LeakyReLU\n",
        "from tensorflow.keras.layers import UpSampling2D, Conv2D\n",
        "from tensorflow.keras.models import Sequential, Model, load_model\n",
        "from tensorflow.keras.optimizers import Adam   \n",
        "import numpy as np\n",
        "import matplotlib.pyplot as plt\n",
        "import os \n",
        "import time\n",
        "import PIL\n",
        "from PIL import Image\n",
        "from IPython import display\n",
        "from tqdm import tqdm\n",
        "from os import listdir\n",
        "from matplotlib import image\n",
        "import imageio\n",
        "import glob\n",
        "tf.__version__"
      ],
      "execution_count": null,
      "outputs": [
        {
          "output_type": "execute_result",
          "data": {
            "application/vnd.google.colaboratory.intrinsic+json": {
              "type": "string"
            },
            "text/plain": [
              "'2.4.1'"
            ]
          },
          "metadata": {
            "tags": []
          },
          "execution_count": 1
        }
      ]
    },
    {
      "cell_type": "code",
      "metadata": {
        "id": "x2UQOyHrXeVV",
        "colab": {
          "base_uri": "https://localhost:8080/"
        },
        "outputId": "e559070f-889f-4085-dee1-c3232926ffa5"
      },
      "source": [
        "from google.colab import drive\n",
        "drive.mount('/content/drive')"
      ],
      "execution_count": null,
      "outputs": [
        {
          "output_type": "stream",
          "text": [
            "Mounted at /content/drive\n"
          ],
          "name": "stdout"
        }
      ]
    },
    {
      "cell_type": "markdown",
      "metadata": {
        "id": "iKwoFUsRri_W"
      },
      "source": [
        "##Downloading and Extracting Data: Don't run this everytime"
      ]
    },
    {
      "cell_type": "code",
      "metadata": {
        "id": "wmWBHieNXoPV"
      },
      "source": [
        "from google.colab import files\n",
        "files.upload()  #kaggle.json\n",
        "\n",
        "!pip install -q kaggle\n",
        "!mkdir -p ~/.kaggle\n",
        "!cp kaggle.json ~/.kaggle/\n",
        "!ls ~/.kaggle\n",
        "!chmod 600 /root/.kaggle/kaggle.json  # set permission\n",
        "\n",
        "!kaggle datasets download -d arnaud58/landscape-pictures -p /content/gdrive/MyDrive/GAN/"
      ],
      "execution_count": null,
      "outputs": []
    },
    {
      "cell_type": "code",
      "metadata": {
        "id": "TOanxntCCyrr"
      },
      "source": [
        "import zipfile\n",
        "folder = \"/content/drive/.shortcut-targets-by-id/10baK0o8l3nx1BRBRkEe3vdMraTi8V8dG/GAN/\"\n",
        "with zipfile.ZipFile(folder + \"landscape-pictures.zip\", 'r') as zip_ref:\n",
        "    zip_ref.extractall(folder+\"landscape128\")"
      ],
      "execution_count": null,
      "outputs": []
    },
    {
      "cell_type": "markdown",
      "metadata": {
        "id": "OwEzkp5roVGV"
      },
      "source": [
        "## Defining global variables"
      ]
    },
    {
      "cell_type": "code",
      "metadata": {
        "id": "Rutu1dZhoP66"
      },
      "source": [
        "DIMS = 128\n",
        "folder = \"/content/drive/MyDrive/GAN/landscape128_final/\" #Parent folder\n",
        "BUFFER_SIZE = 6000\n",
        "BATCH_SIZE = 32\n",
        "SEED_SIZE = 100\n",
        "EPOCHS = 400\n",
        "IMAGE_COUNT = 100"
      ],
      "execution_count": null,
      "outputs": []
    },
    {
      "cell_type": "markdown",
      "metadata": {
        "id": "6e9QMtsaroiF"
      },
      "source": [
        "## Resizing original files: Dont't run this everytime"
      ]
    },
    {
      "cell_type": "code",
      "metadata": {
        "id": "Yap56_95Y9We"
      },
      "source": [
        "loaded_images = list()\n",
        "for filename in tqdm(os.listdir(folder)):\n",
        "  f_img = os.path.join(folder, filename)\n",
        "  img_data = Image.open(f_img).resize((DIMS, DIMS), Image.ANTIALIAS)\n",
        "  if img_data.size != (DIMS,DIMS):\n",
        "    print(f\"Err, shape = {img_data.size}\")\n",
        "  else:\n",
        "    img_data.save(f_img)\n",
        "    loaded_images.append(img_data)"
      ],
      "execution_count": null,
      "outputs": []
    },
    {
      "cell_type": "markdown",
      "metadata": {
        "id": "JJO2buFVrtIS"
      },
      "source": [
        "### Now you're sorted"
      ]
    },
    {
      "cell_type": "code",
      "metadata": {
        "id": "ryXIEkvNaAE4"
      },
      "source": [
        "def hms_string(sec_elapsed):\n",
        "    h = int(sec_elapsed / (60 * 60))\n",
        "    m = int((sec_elapsed % (60 * 60)) / 60)\n",
        "    s = sec_elapsed % 60\n",
        "    return \"{}:{:>02}:{:>05.2f}\".format(h, m, s)"
      ],
      "execution_count": null,
      "outputs": []
    },
    {
      "cell_type": "markdown",
      "metadata": {
        "id": "JUvsozBiaQfT"
      },
      "source": [
        "## Loading images into numpy array"
      ]
    },
    {
      "cell_type": "code",
      "metadata": {
        "id": "paLtjjIuenG9",
        "colab": {
          "base_uri": "https://localhost:8080/"
        },
        "outputId": "57dd9f6b-ed39-450e-a43b-76c4ba30d390"
      },
      "source": [
        "training_data_path = os.path.join(folder,f'training_data_{DIMS}X{DIMS}.npy')\n",
        "print(f\"Looking for file: {training_data_path}\")\n",
        "\n",
        "if not os.path.isfile(training_data_path):\n",
        "  start = time.time()\n",
        "  print(\"Loading training images...\")\n",
        "  training_data = []\n",
        "  for filename in tqdm(os.listdir(folder)):\n",
        "      path = os.path.join(folder,filename)\n",
        "      image = Image.open(path).resize((DIMS,DIMS),Image.ANTIALIAS)\n",
        "      if np.asarray(image).shape == (DIMS, DIMS, 3):\n",
        "        training_data.append(np.asarray(image))\n",
        "  \n",
        "  training_data = np.reshape(training_data,(-1,DIMS,DIMS,3))\n",
        "  training_data = training_data.astype(np.float32)\n",
        "  training_data = training_data / 127.5 - 1.\n",
        "  print(\"Saving training images in numpy file...\")\n",
        "  np.save(training_data_path,training_data)\n",
        "  elapsed = time.time()-start\n",
        "  print (f'Image preprocessing time: {hms_string(elapsed)}')\n",
        "\n",
        "else:\n",
        "  print(\"Loading previous training numpy file...\")\n",
        "  training_data = np.load(training_data_path)"
      ],
      "execution_count": null,
      "outputs": [
        {
          "output_type": "stream",
          "text": [
            "Looking for file: /content/drive/.shortcut-targets-by-id/10baK0o8l3nx1BRBRkEe3vdMraTi8V8dG/GAN/landscape128/training_data_128X128.npy\n",
            "Loading previous training numpy file...\n"
          ],
          "name": "stdout"
        }
      ]
    },
    {
      "cell_type": "code",
      "metadata": {
        "id": "7ITEEGHDiHWj"
      },
      "source": [
        "train_dataset = tf.data.Dataset.from_tensor_slices(training_data).shuffle(BUFFER_SIZE).batch(BATCH_SIZE)"
      ],
      "execution_count": null,
      "outputs": []
    },
    {
      "cell_type": "markdown",
      "metadata": {
        "id": "ZxVtWiT7ZEx9"
      },
      "source": [
        "## Generator Model"
      ]
    },
    {
      "cell_type": "code",
      "metadata": {
        "id": "J7gNc06AiKsh"
      },
      "source": [
        "def build_generator(seed_size, channels):\n",
        "    model = Sequential()\n",
        "\n",
        "    model.add(Dense(4 * 4 * 256, activation=\"relu\",input_dim=seed_size))\n",
        "    model.add(BatchNormalization(momentum=0.8))\n",
        "    model.add(Reshape((4, 4, 256)))\n",
        "    assert model.output_shape == (None, 4, 4, 256)\n",
        "\n",
        "    model.add(UpSampling2D())\n",
        "    model.add(Conv2D(256, kernel_size=3, padding=\"same\"))\n",
        "    model.add(BatchNormalization(momentum=0.8))\n",
        "    model.add(Activation(\"relu\"))\n",
        "\n",
        "    model.add(UpSampling2D())\n",
        "    model.add(Conv2D(256, kernel_size=3, padding=\"same\"))\n",
        "    model.add(BatchNormalization(momentum=0.8))\n",
        "    model.add(Activation(\"relu\"))\n",
        "\n",
        "    model.add(UpSampling2D())\n",
        "    model.add(Conv2D(256, kernel_size=3, padding=\"same\"))\n",
        "    model.add(BatchNormalization(momentum=0.8))\n",
        "    model.add(Activation(\"relu\"))\n",
        "    \n",
        "    model.add(UpSampling2D())\n",
        "    model.add(Conv2D(256, kernel_size=3, padding=\"same\"))\n",
        "    model.add(BatchNormalization(momentum=0.8))\n",
        "    model.add(Activation(\"relu\"))\n",
        "\n",
        "    model.add(UpSampling2D())\n",
        "    model.add(Conv2D(256, kernel_size=3, padding=\"same\"))\n",
        "    model.add(BatchNormalization(momentum=0.8))\n",
        "    model.add(Activation(\"relu\"))\n",
        "   \n",
        "    model.add(Conv2D(channels, kernel_size=3, padding=\"same\"))\n",
        "    model.add(Activation(\"tanh\"))\n",
        "\n",
        "    return model"
      ],
      "execution_count": null,
      "outputs": []
    },
    {
      "cell_type": "code",
      "metadata": {
        "id": "OQZ0GCv2iR2k",
        "colab": {
          "base_uri": "https://localhost:8080/",
          "height": 285
        },
        "outputId": "ebe4939b-6677-4842-bb33-6f566bf6eb5e"
      },
      "source": [
        "generator = build_generator(SEED_SIZE, 3)\n",
        "\n",
        "noise = tf.random.normal([1, SEED_SIZE])\n",
        "generated_image = generator(noise, training=False)\n",
        "\n",
        "plt.imshow(generated_image[0, :, :, 0])"
      ],
      "execution_count": null,
      "outputs": [
        {
          "output_type": "execute_result",
          "data": {
            "text/plain": [
              "<matplotlib.image.AxesImage at 0x7f0d781b6e90>"
            ]
          },
          "metadata": {
            "tags": []
          },
          "execution_count": 9
        },
        {
          "output_type": "display_data",
          "data": {
            "image/png": "[encoded data removed]",
            "text/plain": [
              "<Figure size 432x288 with 1 Axes>"
            ]
          },
          "metadata": {
            "tags": [],
            "needs_background": "light"
          }
        }
      ]
    },
    {
      "cell_type": "code",
      "metadata": {
        "id": "NHrR0yx3Yygu"
      },
      "source": [
        "generator.summary()"
      ],
      "execution_count": null,
      "outputs": []
    },
    {
      "cell_type": "code",
      "metadata": {
        "id": "8qfhD5wkBlGu"
      },
      "source": [
        "if not os.path.isdir(os.path.join(folder,'models')):\n",
        "  os.mkdir(os.path.join(folder,'models'))\n",
        "model_path='/content/drive/MyDrive/GAN/landscape128_final/models'"
      ],
      "execution_count": null,
      "outputs": []
    },
    {
      "cell_type": "code",
      "metadata": {
        "id": "tWwn4qoCY0cL"
      },
      "source": [
        "tf.keras.utils.plot_model(generator, to_file=os.path.join(model_path,'generator.png'), show_shapes=True, show_layer_names=True)"
      ],
      "execution_count": null,
      "outputs": []
    },
    {
      "cell_type": "markdown",
      "metadata": {
        "id": "eupjr-ROZHRR"
      },
      "source": [
        "## Discriminator Model"
      ]
    },
    {
      "cell_type": "code",
      "metadata": {
        "id": "OkiORmkyiVgn"
      },
      "source": [
        "def build_discriminator(image_shape):\n",
        "    model = Sequential()\n",
        "\n",
        "    model.add(Conv2D(32, kernel_size=3, strides=2, input_shape=image_shape, padding=\"same\"))\n",
        "    model.add(LeakyReLU(alpha=0.2))\n",
        "\n",
        "    model.add(Dropout(0.25))\n",
        "    model.add(Conv2D(64, kernel_size=3, strides=2, padding=\"same\"))\n",
        "    model.add(ZeroPadding2D(padding=((0,1),(0,1))))\n",
        "    model.add(BatchNormalization(momentum=0.8))\n",
        "    model.add(LeakyReLU(alpha=0.2))\n",
        "\n",
        "    model.add(Dropout(0.25))\n",
        "    model.add(Conv2D(128, kernel_size=3, strides=2, padding=\"same\"))\n",
        "    model.add(BatchNormalization(momentum=0.8))\n",
        "    model.add(LeakyReLU(alpha=0.2))\n",
        "\n",
        "    model.add(Dropout(0.25))\n",
        "    model.add(Conv2D(256, kernel_size=3, strides=1, padding=\"same\"))\n",
        "    model.add(BatchNormalization(momentum=0.8))\n",
        "    model.add(LeakyReLU(alpha=0.2))\n",
        "\n",
        "    model.add(Dropout(0.25))\n",
        "    model.add(Conv2D(512, kernel_size=3, strides=1, padding=\"same\"))\n",
        "    model.add(BatchNormalization(momentum=0.8))\n",
        "    model.add(LeakyReLU(alpha=0.2))\n",
        "\n",
        "    model.add(Dropout(0.25))\n",
        "    model.add(Flatten())\n",
        "    model.add(Dense(1, activation='sigmoid'))\n",
        "\n",
        "    return model"
      ],
      "execution_count": null,
      "outputs": []
    },
    {
      "cell_type": "code",
      "metadata": {
        "id": "NSkYBPS3i2wq",
        "colab": {
          "base_uri": "https://localhost:8080/"
        },
        "outputId": "92b3ae3f-d177-4e0f-abd7-42f29f779a0e"
      },
      "source": [
        "image_shape = (DIMS,DIMS,3)\n",
        "\n",
        "discriminator = build_discriminator(image_shape)\n",
        "decision = discriminator(generated_image)\n",
        "print (decision)"
      ],
      "execution_count": null,
      "outputs": [
        {
          "output_type": "stream",
          "text": [
            "tf.Tensor([[0.5000468]], shape=(1, 1), dtype=float32)\n"
          ],
          "name": "stdout"
        }
      ]
    },
    {
      "cell_type": "code",
      "metadata": {
        "id": "unCq2l-jY8bH"
      },
      "source": [
        "discriminator.summary()"
      ],
      "execution_count": null,
      "outputs": []
    },
    {
      "cell_type": "code",
      "metadata": {
        "id": "ViWpjYfYY-vz"
      },
      "source": [
        "tf.keras.utils.plot_model(generator, to_file=os.path.join(model_path,'discriminator.png'), show_shapes=True, show_layer_names=True)"
      ],
      "execution_count": null,
      "outputs": []
    },
    {
      "cell_type": "markdown",
      "metadata": {
        "id": "7NjSsGDuZSFW"
      },
      "source": [
        "## Defining loss functions and optimizers"
      ]
    },
    {
      "cell_type": "code",
      "metadata": {
        "id": "iEpFCVZri-oI"
      },
      "source": [
        "cross_entropy = tf.keras.losses.BinaryCrossentropy(from_logits=True)\n",
        "\n",
        "def discriminator_loss(real_output, fake_output):\n",
        "    real_loss = cross_entropy(tf.ones_like(real_output), real_output)\n",
        "    fake_loss = cross_entropy(tf.zeros_like(fake_output), fake_output)\n",
        "    total_loss = real_loss + fake_loss\n",
        "    return total_loss\n",
        "\n",
        "def generator_loss(fake_output):\n",
        "    return cross_entropy(tf.ones_like(fake_output), fake_output)"
      ],
      "execution_count": null,
      "outputs": []
    },
    {
      "cell_type": "code",
      "metadata": {
        "id": "GlJ6CCxImEC0"
      },
      "source": [
        "generator_optimizer = tf.keras.optimizers.Adam(1.5e-4,0.5)\n",
        "discriminator_optimizer = tf.keras.optimizers.Adam(1.5e-4,0.5)"
      ],
      "execution_count": null,
      "outputs": []
    },
    {
      "cell_type": "code",
      "metadata": {
        "id": "q3d2Qk6NmHSR"
      },
      "source": [
        "checkpoint_dir = os.path.join(folder,\"checkpoints1\") #Checkpoint files generated will be stored in this new folder\n",
        "checkpoint_prefix = os.path.join(checkpoint_dir, \"ckpt\")\n",
        "checkpoint = tf.train.Checkpoint(generator_optimizer=generator_optimizer, discriminator_optimizer=discriminator_optimizer, generator=generator, discriminator=discriminator)"
      ],
      "execution_count": null,
      "outputs": []
    },
    {
      "cell_type": "markdown",
      "metadata": {
        "id": "eZsVc0G1Zne8"
      },
      "source": [
        "## Training and Saving Images"
      ]
    },
    {
      "cell_type": "code",
      "metadata": {
        "id": "p-xGLtEKmPET"
      },
      "source": [
        "@tf.function\n",
        "def train_step(images):\n",
        "  seed = tf.random.normal([BATCH_SIZE, SEED_SIZE])\n",
        "\n",
        "  with tf.GradientTape() as gen_tape, tf.GradientTape() as disc_tape:\n",
        "    generated_images = generator(seed, training=True)\n",
        "\n",
        "    real_output = discriminator(images, training=True)\n",
        "    fake_output = discriminator(generated_images, training=True)\n",
        "\n",
        "    gen_loss = generator_loss(fake_output)\n",
        "    disc_loss = discriminator_loss(real_output, fake_output)\n",
        "    \n",
        "    gradients_of_generator = gen_tape.gradient(gen_loss, generator.trainable_variables)\n",
        "    gradients_of_discriminator = disc_tape.gradient(disc_loss, discriminator.trainable_variables)\n",
        "\n",
        "    generator_optimizer.apply_gradients(zip(gradients_of_generator, generator.trainable_variables))\n",
        "    discriminator_optimizer.apply_gradients(zip(gradients_of_discriminator, discriminator.trainable_variables))\n",
        "    \n",
        "  return gen_loss,disc_loss"
      ],
      "execution_count": null,
      "outputs": []
    },
    {
      "cell_type": "code",
      "metadata": {
        "id": "CninpNZBmTix"
      },
      "source": [
        "def train(dataset, epochs):\n",
        "  fixed_seed = np.random.normal(0, 1, (IMAGE_COUNT, SEED_SIZE))\n",
        "  start = time.time()\n",
        "\n",
        "  for epoch in range(epochs):\n",
        "    epoch_start = time.time()\n",
        "\n",
        "    gen_loss_list = []\n",
        "    disc_loss_list = []\n",
        "\n",
        "    for image_batch in dataset:\n",
        "      t = train_step(image_batch)\n",
        "      gen_loss_list.append(t[0])\n",
        "      disc_loss_list.append(t[1])\n",
        "\n",
        "    g_loss = sum(gen_loss_list) / len(gen_loss_list)\n",
        "    d_loss = sum(disc_loss_list) / len(disc_loss_list)\n",
        "\n",
        "    if (epoch + 1) % 15 == 0:\n",
        "      checkpoint.save(file_prefix = checkpoint_prefix)\n",
        "\n",
        "    epoch_elapsed = time.time()-epoch_start\n",
        "    print (f'Epoch {epoch+1}, gen loss={g_loss},disc loss={d_loss},{hms_string(epoch_elapsed)}')\n",
        "    save_images(epoch,fixed_seed)\n",
        "\n",
        "  elapsed = time.time()-start\n",
        "  print (f'Training time: {hms_string(elapsed)}')"
      ],
      "execution_count": null,
      "outputs": []
    },
    {
      "cell_type": "code",
      "metadata": {
        "id": "Pi5WOl-NmWuO"
      },
      "source": [
        "def save_images(cnt,noise):\n",
        "  generated_images = (generator.predict(noise)*0.5 + 0.5)*255\n",
        "  output_path = os.path.join(folder,'Image128_test1') #Images generated will be stored in this new folder\n",
        "  if not os.path.exists(output_path):\n",
        "    os.makedirs(output_path)\n",
        "  \n",
        "  for i in range(len(generated_images)):\n",
        "    path = os.path.join(output_path, f'Image-{i+1}')\n",
        "    if not os.path.exists(path):\n",
        "      os.makedirs(path)\n",
        "\n",
        "  for i in range(len(generated_images)):  \n",
        "    filename = os.path.join(output_path,f\"Image-{i+1}\", f\"Epoch-{cnt+1}.png\")\n",
        "    Image.fromarray(generated_images[i].astype(np.uint8)).save(filename)"
      ],
      "execution_count": null,
      "outputs": []
    },
    {
      "cell_type": "code",
      "metadata": {
        "id": "lgkjIsc7mZmM",
        "colab": {
          "base_uri": "https://localhost:8080/"
        },
        "outputId": "f12ac98e-5fbc-4293-f76e-985b27bdadb3"
      },
      "source": [
        "train(train_dataset, EPOCHS)"
      ],
      "execution_count": null,
      "outputs": [
        {
          "output_type": "stream",
          "text": [
            "Epoch 1, gen loss=2.62335205078125,disc loss=1.2986334562301636,0:01:04.20\n",
            "Epoch 2, gen loss=1.7020164728164673,disc loss=2.012425422668457,0:00:57.83\n",
            "Epoch 3, gen loss=1.4805965423583984,disc loss=1.7562052011489868,0:00:57.20\n",
            "Epoch 4, gen loss=1.5559747219085693,disc loss=1.688524842262268,0:00:57.03\n",
            "Epoch 5, gen loss=1.520346760749817,disc loss=1.803109884262085,0:00:56.80\n",
            "Epoch 6, gen loss=1.6257110834121704,disc loss=1.7886427640914917,0:00:56.99\n",
            "Epoch 7, gen loss=1.4418102502822876,disc loss=1.6309421062469482,0:00:56.89\n",
            "Epoch 8, gen loss=1.4624757766723633,disc loss=1.555160641670227,0:00:56.84\n",
            "Epoch 9, gen loss=1.4763588905334473,disc loss=1.703796625137329,0:00:56.83\n",
            "Epoch 10, gen loss=1.4174705743789673,disc loss=1.6753097772598267,0:00:56.88\n",
            "Epoch 11, gen loss=1.3924574851989746,disc loss=1.6209295988082886,0:00:56.89\n",
            "Epoch 12, gen loss=1.7587815523147583,disc loss=1.4910986423492432,0:00:56.92\n",
            "Epoch 13, gen loss=1.9734686613082886,disc loss=1.5005861520767212,0:00:56.82\n",
            "Epoch 14, gen loss=1.561223030090332,disc loss=1.7074522972106934,0:00:56.74\n",
            "Epoch 15, gen loss=1.7375884056091309,disc loss=1.4712525606155396,0:00:57.70\n",
            "Epoch 16, gen loss=1.3828108310699463,disc loss=1.6336590051651,0:00:56.85\n",
            "Epoch 17, gen loss=1.2193984985351562,disc loss=1.533571720123291,0:00:56.89\n",
            "Epoch 18, gen loss=1.2165082693099976,disc loss=1.5496277809143066,0:00:56.86\n",
            "Epoch 19, gen loss=1.2994515895843506,disc loss=1.4840593338012695,0:00:56.79\n",
            "Epoch 20, gen loss=1.2393033504486084,disc loss=1.4831652641296387,0:00:56.95\n",
            "Epoch 21, gen loss=1.4158390760421753,disc loss=1.4861189126968384,0:00:56.81\n",
            "Epoch 22, gen loss=1.4514416456222534,disc loss=1.5219192504882812,0:00:56.79\n",
            "Epoch 23, gen loss=1.475105881690979,disc loss=1.3441041707992554,0:00:56.92\n",
            "Epoch 24, gen loss=1.5257059335708618,disc loss=1.3852232694625854,0:00:56.79\n",
            "Epoch 25, gen loss=1.297433853149414,disc loss=1.4585460424423218,0:00:56.83\n",
            "Epoch 26, gen loss=1.1437348127365112,disc loss=1.4508895874023438,0:00:56.79\n",
            "Epoch 27, gen loss=1.2151421308517456,disc loss=1.3993595838546753,0:00:56.83\n",
            "Epoch 28, gen loss=1.2316749095916748,disc loss=1.3413363695144653,0:00:56.81\n",
            "Epoch 29, gen loss=1.2455408573150635,disc loss=1.4048994779586792,0:00:56.78\n",
            "Epoch 30, gen loss=1.199895977973938,disc loss=1.385461688041687,0:00:57.61\n",
            "Epoch 31, gen loss=1.2042725086212158,disc loss=1.416226863861084,0:00:56.80\n",
            "Epoch 32, gen loss=1.1631523370742798,disc loss=1.3693815469741821,0:00:56.80\n",
            "Epoch 33, gen loss=1.2744938135147095,disc loss=1.3406637907028198,0:00:56.82\n",
            "Epoch 34, gen loss=1.3071255683898926,disc loss=1.3168822526931763,0:00:56.84\n",
            "Epoch 35, gen loss=1.3423218727111816,disc loss=1.3213738203048706,0:00:56.85\n",
            "Epoch 36, gen loss=1.315092921257019,disc loss=1.2853593826293945,0:00:56.84\n",
            "Epoch 37, gen loss=1.399998664855957,disc loss=1.2768853902816772,0:00:56.92\n",
            "Epoch 38, gen loss=1.411878228187561,disc loss=1.2717591524124146,0:00:56.83\n",
            "Epoch 39, gen loss=1.4437834024429321,disc loss=1.2562499046325684,0:00:56.76\n",
            "Epoch 40, gen loss=1.3383110761642456,disc loss=1.3026785850524902,0:00:56.82\n",
            "Epoch 41, gen loss=1.3926151990890503,disc loss=1.2316405773162842,0:00:56.88\n",
            "Epoch 42, gen loss=1.3656036853790283,disc loss=1.3263530731201172,0:00:56.84\n",
            "Epoch 43, gen loss=1.2804781198501587,disc loss=1.2864489555358887,0:00:56.88\n",
            "Epoch 44, gen loss=1.2754565477371216,disc loss=1.3545235395431519,0:00:56.78\n",
            "Epoch 45, gen loss=1.3444737195968628,disc loss=1.2547922134399414,0:00:57.78\n",
            "Epoch 46, gen loss=1.3017187118530273,disc loss=1.2796533107757568,0:00:56.81\n",
            "Epoch 47, gen loss=1.2999603748321533,disc loss=1.3010978698730469,0:00:56.84\n",
            "Epoch 48, gen loss=1.2748514413833618,disc loss=1.249056100845337,0:00:56.80\n",
            "Epoch 49, gen loss=1.3827987909317017,disc loss=1.2155518531799316,0:00:56.78\n",
            "Epoch 50, gen loss=1.4781157970428467,disc loss=1.2217031717300415,0:00:56.80\n",
            "Epoch 51, gen loss=1.407968521118164,disc loss=1.2344344854354858,0:00:56.86\n",
            "Epoch 52, gen loss=1.3359028100967407,disc loss=1.2455068826675415,0:00:56.66\n",
            "Epoch 53, gen loss=1.3302299976348877,disc loss=1.228550910949707,0:00:56.79\n",
            "Epoch 54, gen loss=1.3533787727355957,disc loss=1.2532609701156616,0:00:56.80\n",
            "Epoch 55, gen loss=1.3604211807250977,disc loss=1.2041453123092651,0:00:56.82\n",
            "Epoch 56, gen loss=1.4761782884597778,disc loss=1.1856977939605713,0:00:56.81\n",
            "Epoch 57, gen loss=1.4894580841064453,disc loss=1.1869478225708008,0:00:56.86\n",
            "Epoch 58, gen loss=1.4996871948242188,disc loss=1.1782124042510986,0:00:56.79\n",
            "Epoch 59, gen loss=1.4685742855072021,disc loss=1.1892049312591553,0:00:56.73\n",
            "Epoch 60, gen loss=1.5593808889389038,disc loss=1.1672523021697998,0:00:57.66\n",
            "Epoch 61, gen loss=1.4571738243103027,disc loss=1.1926294565200806,0:00:56.83\n",
            "Epoch 62, gen loss=1.5473673343658447,disc loss=1.1378118991851807,0:00:56.75\n",
            "Epoch 63, gen loss=1.5530177354812622,disc loss=1.1144280433654785,0:00:56.74\n",
            "Epoch 64, gen loss=1.5799696445465088,disc loss=1.1398650407791138,0:00:56.80\n",
            "Epoch 65, gen loss=1.583162784576416,disc loss=1.1091201305389404,0:00:56.78\n",
            "Epoch 66, gen loss=1.5668997764587402,disc loss=1.1550971269607544,0:00:56.75\n",
            "Epoch 67, gen loss=1.5637043714523315,disc loss=1.1324286460876465,0:00:56.69\n",
            "Epoch 68, gen loss=1.5736585855484009,disc loss=1.1397881507873535,0:00:56.80\n",
            "Epoch 69, gen loss=1.5739004611968994,disc loss=1.113207459449768,0:00:56.80\n",
            "Epoch 70, gen loss=1.549423098564148,disc loss=1.1496617794036865,0:00:56.77\n",
            "Epoch 71, gen loss=1.6201190948486328,disc loss=1.1075069904327393,0:00:56.77\n",
            "Epoch 72, gen loss=1.6295162439346313,disc loss=1.0742781162261963,0:00:56.70\n",
            "Epoch 73, gen loss=1.6922160387039185,disc loss=1.0595886707305908,0:00:56.68\n",
            "Epoch 74, gen loss=1.7622952461242676,disc loss=1.0235462188720703,0:00:56.76\n",
            "Epoch 75, gen loss=1.7435537576675415,disc loss=1.0977216958999634,0:00:57.55\n",
            "Epoch 76, gen loss=1.7185250520706177,disc loss=1.0459880828857422,0:00:56.77\n",
            "Epoch 77, gen loss=1.746124029159546,disc loss=1.044701337814331,0:00:56.75\n",
            "Epoch 78, gen loss=1.7941491603851318,disc loss=1.0939258337020874,0:00:56.68\n",
            "Epoch 79, gen loss=1.7799140214920044,disc loss=1.0339587926864624,0:00:56.79\n",
            "Epoch 80, gen loss=1.7757220268249512,disc loss=1.0058010816574097,0:00:56.76\n",
            "Epoch 81, gen loss=1.7880821228027344,disc loss=1.0530569553375244,0:00:56.77\n",
            "Epoch 82, gen loss=1.7514313459396362,disc loss=1.0538705587387085,0:00:56.03\n",
            "Epoch 83, gen loss=1.7946455478668213,disc loss=1.0073798894882202,0:00:56.36\n",
            "Epoch 84, gen loss=1.8293904066085815,disc loss=1.0286974906921387,0:00:56.37\n",
            "Epoch 85, gen loss=1.8283390998840332,disc loss=1.0507607460021973,0:00:56.47\n",
            "Epoch 86, gen loss=1.8930895328521729,disc loss=0.9806460738182068,0:00:56.20\n",
            "Epoch 87, gen loss=1.9398200511932373,disc loss=0.9947517514228821,0:00:56.42\n",
            "Epoch 88, gen loss=1.9736762046813965,disc loss=0.9983471035957336,0:00:56.45\n",
            "Epoch 89, gen loss=1.8877450227737427,disc loss=1.003038763999939,0:00:56.34\n",
            "Epoch 90, gen loss=1.9397510290145874,disc loss=0.9835975766181946,0:00:57.02\n",
            "Epoch 91, gen loss=2.0274291038513184,disc loss=0.9419882297515869,0:00:56.41\n",
            "Epoch 92, gen loss=1.8781596422195435,disc loss=1.044952392578125,0:00:56.40\n",
            "Epoch 93, gen loss=2.032573699951172,disc loss=0.898224949836731,0:00:56.24\n",
            "Epoch 94, gen loss=1.9872242212295532,disc loss=0.9934537410736084,0:00:56.24\n",
            "Epoch 95, gen loss=1.965596079826355,disc loss=1.0076379776000977,0:00:56.61\n",
            "Epoch 96, gen loss=2.037078857421875,disc loss=1.022924542427063,0:00:56.20\n",
            "Epoch 97, gen loss=2.0097291469573975,disc loss=0.9532083868980408,0:00:56.43\n",
            "Epoch 98, gen loss=1.9970664978027344,disc loss=0.959152340888977,0:00:56.25\n",
            "Epoch 99, gen loss=2.0624775886535645,disc loss=0.9536652565002441,0:00:56.45\n",
            "Epoch 100, gen loss=2.00162672996521,disc loss=0.9971629977226257,0:00:56.22\n",
            "Epoch 101, gen loss=1.9813638925552368,disc loss=0.9839588403701782,0:00:56.52\n",
            "Epoch 102, gen loss=2.045758008956909,disc loss=0.9619494676589966,0:00:56.31\n",
            "Epoch 103, gen loss=2.1992340087890625,disc loss=0.9189754128456116,0:00:56.43\n",
            "Epoch 104, gen loss=2.0318799018859863,disc loss=0.9800900816917419,0:00:56.29\n",
            "Epoch 105, gen loss=2.1293251514434814,disc loss=0.8950859904289246,0:00:57.06\n",
            "Epoch 106, gen loss=2.035898208618164,disc loss=0.9446645379066467,0:00:56.29\n",
            "Epoch 107, gen loss=2.077258825302124,disc loss=0.9592275023460388,0:00:56.32\n",
            "Epoch 108, gen loss=2.113668918609619,disc loss=0.9468418955802917,0:00:56.29\n",
            "Epoch 109, gen loss=2.1128337383270264,disc loss=0.9144220948219299,0:00:56.29\n",
            "Epoch 110, gen loss=2.0956063270568848,disc loss=0.9151631593704224,0:00:56.32\n",
            "Epoch 111, gen loss=2.189542055130005,disc loss=0.8978602290153503,0:00:56.28\n",
            "Epoch 112, gen loss=2.34025502204895,disc loss=0.7992439270019531,0:00:56.34\n",
            "Epoch 113, gen loss=2.36301589012146,disc loss=0.9018111228942871,0:00:56.32\n",
            "Epoch 114, gen loss=2.2801737785339355,disc loss=0.9043387770652771,0:00:56.42\n",
            "Epoch 115, gen loss=2.2263283729553223,disc loss=0.8644523620605469,0:00:56.29\n",
            "Epoch 116, gen loss=2.330000877380371,disc loss=0.8610407710075378,0:00:56.29\n",
            "Epoch 117, gen loss=2.3288750648498535,disc loss=0.877334475517273,0:00:56.30\n",
            "Epoch 118, gen loss=2.285555601119995,disc loss=0.8671488165855408,0:00:56.27\n",
            "Epoch 119, gen loss=2.3357033729553223,disc loss=0.8741707801818848,0:00:56.31\n",
            "Epoch 120, gen loss=2.443303346633911,disc loss=0.7632585763931274,0:00:56.83\n",
            "Epoch 121, gen loss=2.2860028743743896,disc loss=0.8857594728469849,0:00:56.32\n",
            "Epoch 122, gen loss=2.3150179386138916,disc loss=0.8659708499908447,0:00:56.24\n",
            "Epoch 123, gen loss=2.3158140182495117,disc loss=0.8179921507835388,0:00:56.29\n",
            "Epoch 124, gen loss=2.4113306999206543,disc loss=0.8414061665534973,0:00:56.33\n",
            "Epoch 125, gen loss=2.3601012229919434,disc loss=0.8661130666732788,0:00:56.27\n",
            "Epoch 126, gen loss=2.44175386428833,disc loss=0.861883819103241,0:00:56.41\n",
            "Epoch 127, gen loss=2.4728777408599854,disc loss=0.8559988141059875,0:00:56.35\n",
            "Epoch 128, gen loss=2.5160820484161377,disc loss=0.7379906177520752,0:00:56.27\n",
            "Epoch 129, gen loss=2.3964998722076416,disc loss=0.829247236251831,0:00:56.18\n",
            "Epoch 130, gen loss=2.612715721130371,disc loss=0.7154921889305115,0:00:56.34\n",
            "Epoch 131, gen loss=2.5395641326904297,disc loss=0.8655979633331299,0:00:56.30\n",
            "Epoch 132, gen loss=2.5330376625061035,disc loss=0.8203955292701721,0:00:56.29\n",
            "Epoch 133, gen loss=2.5354161262512207,disc loss=0.8172479271888733,0:00:56.34\n",
            "Epoch 134, gen loss=2.561911106109619,disc loss=0.795078456401825,0:00:56.21\n",
            "Epoch 135, gen loss=2.5482192039489746,disc loss=0.804810643196106,0:00:56.97\n",
            "Epoch 136, gen loss=2.602163553237915,disc loss=0.8033146262168884,0:00:56.30\n",
            "Epoch 137, gen loss=2.622265338897705,disc loss=0.8217151761054993,0:00:56.29\n",
            "Epoch 138, gen loss=2.485353946685791,disc loss=0.8726100921630859,0:00:56.33\n",
            "Epoch 139, gen loss=2.551345109939575,disc loss=0.7955029010772705,0:00:56.24\n",
            "Epoch 140, gen loss=2.6432344913482666,disc loss=0.7921305894851685,0:00:56.33\n",
            "Epoch 141, gen loss=2.5867273807525635,disc loss=0.81003338098526,0:00:56.32\n",
            "Epoch 142, gen loss=2.6680753231048584,disc loss=0.7944176197052002,0:00:56.28\n",
            "Epoch 143, gen loss=2.7545363903045654,disc loss=0.730137825012207,0:00:56.25\n",
            "Epoch 144, gen loss=2.6867032051086426,disc loss=0.8405095338821411,0:00:56.26\n",
            "Epoch 145, gen loss=2.6110494136810303,disc loss=0.8225511312484741,0:00:56.26\n",
            "Epoch 146, gen loss=2.6839213371276855,disc loss=0.7619915008544922,0:00:56.35\n",
            "Epoch 147, gen loss=2.6145882606506348,disc loss=0.7422598600387573,0:00:56.27\n",
            "Epoch 148, gen loss=2.6435165405273438,disc loss=0.7497560977935791,0:00:56.28\n",
            "Epoch 149, gen loss=2.768723249435425,disc loss=0.7548750042915344,0:00:56.31\n",
            "Epoch 150, gen loss=2.758143901824951,disc loss=0.7828418016433716,0:00:56.82\n",
            "Epoch 151, gen loss=2.9467854499816895,disc loss=0.721213161945343,0:00:56.32\n",
            "Epoch 152, gen loss=2.8023974895477295,disc loss=0.7282975912094116,0:00:56.18\n",
            "Epoch 153, gen loss=2.8662288188934326,disc loss=0.7313615679740906,0:00:56.28\n",
            "Epoch 154, gen loss=2.8057243824005127,disc loss=0.7652385234832764,0:00:56.25\n",
            "Epoch 155, gen loss=2.7832891941070557,disc loss=0.7624844312667847,0:00:56.18\n",
            "Epoch 156, gen loss=2.821011543273926,disc loss=0.7469058036804199,0:00:56.26\n",
            "Epoch 157, gen loss=2.8227779865264893,disc loss=0.7260656356811523,0:00:56.25\n",
            "Epoch 158, gen loss=2.86586856842041,disc loss=0.7432360053062439,0:00:56.22\n",
            "Epoch 159, gen loss=2.8422462940216064,disc loss=0.7470784783363342,0:00:56.20\n",
            "Epoch 160, gen loss=2.8411312103271484,disc loss=0.7076391577720642,0:00:56.20\n",
            "Epoch 161, gen loss=2.902324676513672,disc loss=0.7697156071662903,0:00:56.30\n",
            "Epoch 162, gen loss=2.816318988800049,disc loss=0.7728344798088074,0:00:56.12\n",
            "Epoch 163, gen loss=2.8553738594055176,disc loss=0.6971682906150818,0:00:56.28\n",
            "Epoch 164, gen loss=2.9802300930023193,disc loss=0.6860169768333435,0:00:56.23\n",
            "Epoch 165, gen loss=2.921041488647461,disc loss=0.7349631786346436,0:00:56.90\n",
            "Epoch 166, gen loss=2.9252543449401855,disc loss=0.6864073872566223,0:00:56.19\n",
            "Epoch 167, gen loss=2.9828717708587646,disc loss=0.7264943718910217,0:00:56.30\n",
            "Epoch 168, gen loss=2.939763069152832,disc loss=0.7232642769813538,0:00:56.25\n",
            "Epoch 169, gen loss=3.0292112827301025,disc loss=0.672505795955658,0:00:56.26\n",
            "Epoch 170, gen loss=2.9411661624908447,disc loss=0.723906934261322,0:00:56.37\n",
            "Epoch 171, gen loss=3.080508232116699,disc loss=0.6611691117286682,0:00:56.22\n",
            "Epoch 172, gen loss=3.076498508453369,disc loss=0.6935787200927734,0:00:56.19\n",
            "Epoch 173, gen loss=3.08852219581604,disc loss=0.6862547993659973,0:00:56.27\n",
            "Epoch 174, gen loss=3.0604360103607178,disc loss=0.6841343641281128,0:00:56.01\n",
            "Epoch 175, gen loss=3.177009105682373,disc loss=0.6685232520103455,0:00:56.14\n",
            "Epoch 176, gen loss=3.0397346019744873,disc loss=0.6782315373420715,0:00:56.22\n",
            "Epoch 177, gen loss=3.0400338172912598,disc loss=0.6659611463546753,0:00:56.37\n",
            "Epoch 178, gen loss=3.0998587608337402,disc loss=0.7127228379249573,0:00:56.19\n",
            "Epoch 179, gen loss=3.1269783973693848,disc loss=0.6976292133331299,0:00:56.12\n",
            "Epoch 180, gen loss=3.2046759128570557,disc loss=0.6424076557159424,0:00:56.89\n",
            "Epoch 181, gen loss=3.1816084384918213,disc loss=0.6680148839950562,0:00:56.30\n",
            "Epoch 182, gen loss=3.203702688217163,disc loss=0.6411396265029907,0:00:56.29\n",
            "Epoch 183, gen loss=3.2209603786468506,disc loss=0.6886172890663147,0:00:56.26\n",
            "Epoch 184, gen loss=3.247600793838501,disc loss=0.6878907680511475,0:00:56.32\n",
            "Epoch 185, gen loss=3.333326578140259,disc loss=0.6137247085571289,0:00:56.20\n",
            "Epoch 186, gen loss=3.2820279598236084,disc loss=0.6649100184440613,0:00:56.23\n",
            "Epoch 187, gen loss=3.2967748641967773,disc loss=0.6403054594993591,0:00:56.28\n",
            "Epoch 188, gen loss=3.3053042888641357,disc loss=0.613257110118866,0:00:56.23\n",
            "Epoch 189, gen loss=3.3218228816986084,disc loss=0.603273868560791,0:00:56.00\n",
            "Epoch 190, gen loss=3.2740628719329834,disc loss=0.6786649227142334,0:00:56.12\n",
            "Epoch 191, gen loss=3.314298152923584,disc loss=0.5930076837539673,0:00:56.21\n",
            "Epoch 192, gen loss=3.3833484649658203,disc loss=0.6309780478477478,0:00:56.19\n",
            "Epoch 193, gen loss=3.3534271717071533,disc loss=0.6220823526382446,0:00:56.20\n",
            "Epoch 194, gen loss=3.3705623149871826,disc loss=0.605455219745636,0:00:56.22\n",
            "Epoch 195, gen loss=3.4664676189422607,disc loss=0.6302430033683777,0:00:56.96\n",
            "Epoch 196, gen loss=3.446272134780884,disc loss=0.6312321424484253,0:00:56.35\n",
            "Epoch 197, gen loss=3.4100472927093506,disc loss=0.641690194606781,0:00:56.19\n",
            "Epoch 198, gen loss=3.409712076187134,disc loss=0.6038122177124023,0:00:56.31\n",
            "Epoch 199, gen loss=3.4272308349609375,disc loss=0.6273618936538696,0:00:56.12\n",
            "Epoch 200, gen loss=3.389352560043335,disc loss=0.6053827404975891,0:00:56.32\n",
            "Epoch 201, gen loss=3.4498841762542725,disc loss=0.5834085941314697,0:00:56.22\n",
            "Epoch 202, gen loss=3.4794423580169678,disc loss=0.5677981972694397,0:00:56.23\n",
            "Epoch 203, gen loss=3.51115345954895,disc loss=0.6180596947669983,0:00:56.31\n",
            "Epoch 204, gen loss=3.505146026611328,disc loss=0.6416165232658386,0:00:56.18\n",
            "Epoch 205, gen loss=3.460240364074707,disc loss=0.6246843934059143,0:00:56.31\n",
            "Epoch 206, gen loss=3.5905139446258545,disc loss=0.5684775710105896,0:00:56.14\n",
            "Epoch 207, gen loss=3.5697579383850098,disc loss=0.626012921333313,0:00:56.27\n",
            "Epoch 208, gen loss=3.517901659011841,disc loss=0.551035463809967,0:00:56.34\n",
            "Epoch 209, gen loss=3.632539987564087,disc loss=0.6139351725578308,0:00:56.30\n"
          ],
          "name": "stdout"
        }
      ]
    },
    {
      "cell_type": "markdown",
      "metadata": {
        "id": "w3LrZjAbtuiH"
      },
      "source": [
        "## Creating GIFs of generated images"
      ]
    },
    {
      "cell_type": "code",
      "metadata": {
        "id": "_6Sqom4Xth1N"
      },
      "source": [
        "pip install -q imageio"
      ],
      "execution_count": null,
      "outputs": []
    },
    {
      "cell_type": "code",
      "metadata": {
        "id": "64ycK8gptirm"
      },
      "source": [
        "path='/content/drive/MyDrive/GAN/landscape128/Image128_test1'\n",
        "for filename in tqdm(listdir(path)):\n",
        "  temp=os.path.join(path,filename)\n",
        "  anim_file=os.path.join(temp,'animation.gif') #Animated files will be saved in the respective images folders only\n",
        "  with imageio.get_writer(anim_file, mode='I') as writer:\n",
        "    temp_new=os.path.join(temp,'Epoch-*.png')\n",
        "    filenames = glob.glob(temp_new)\n",
        "    filenames = sorted(filenames)\n",
        "    for filename in filenames:\n",
        "      image = imageio.imread(filename)\n",
        "      writer.append_data(image)\n",
        "    image = imageio.imread(filename)\n",
        "    writer.append_data(image)\n"
      ],
      "execution_count": null,
      "outputs": []
    },
    {
      "cell_type": "code",
      "metadata": {
        "id": "Snk9kMA1u92F"
      },
      "source": [
        "pip install -q git+https://github.com/tensorflow/docs"
      ],
      "execution_count": null,
      "outputs": []
    },
    {
      "cell_type": "code",
      "metadata": {
        "id": "jGfeu4ovtnYH"
      },
      "source": [
        "import tensorflow_docs.vis.embed as embed\n",
        "embed.embed_file('/content/drive/MyDrive/GAN/landscape128/Image128_test1/Image-1/animation.gif')"
      ],
      "execution_count": null,
      "outputs": []
    }
  ]
}